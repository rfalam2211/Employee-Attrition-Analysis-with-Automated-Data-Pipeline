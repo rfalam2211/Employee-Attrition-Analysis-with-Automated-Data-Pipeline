{
 "cells": [
  {
   "cell_type": "markdown",
   "id": "d75d9e1b",
   "metadata": {},
   "source": [
    "# Milestone 3 - Penjelasan Kode Great Expectations\n",
    "\n",
    "Nama  : Riko Fadilah Alam\n",
    "\n",
    "Batch : RMT-043\n",
    "\n",
    "Dokumen ini menjelaskan alur kerja dari notebook Great Expectations (GX). Tujuannya adalah untuk memvalidasi kualitas dan integritas data yang telah dibersihkan pada dataset (`P2M3_riko_fadilah_data_clean.csv`).\n",
    "\n"
   ]
  },
  {
   "cell_type": "code",
   "execution_count": 1,
   "id": "e9dc18b2",
   "metadata": {},
   "outputs": [],
   "source": [
    "# Import Libraries\n",
    "import great_expectations as gx\n",
    "import pandas as pd\n"
   ]
  },
  {
   "cell_type": "code",
   "execution_count": 2,
   "id": "a7f866ff",
   "metadata": {},
   "outputs": [],
   "source": [
    "# Inisialisasi dan Konfigurasi GX\n",
    "\n",
    "# Mendapatkan Data Context\n",
    "context = gx.get_context()\n",
    "\n",
    "# Menambahkan 'datasource' sebagai sumber data\n",
    "datasource = context.sources.add_or_update_pandas(name=\"my_pandas_datasource\")\n",
    "\n",
    "# Menambahkan data asset, yang merujuk ke file data clean untuk divalidasi.\n",
    "data_asset = datasource.add_csv_asset(\n",
    "    name=\"employee_data_asset\",\n",
    "    filepath_or_buffer=\"P2M3_riko_fadilah_data_clean.csv\" \n",
    ")\n",
    "\n",
    "# Membuat Expectation Suite untuk menyimpan expectations yang akan dibuat.\n",
    "context.add_or_update_expectation_suite(\n",
    "    expectation_suite_name=\"milestone3_expectation_suite\" \n",
    ")\n",
    "# Membuat validator untuk data asset yang telah dibuat.\n",
    "validator = context.get_validator(\n",
    "    batch_request=data_asset.build_batch_request(),\n",
    "    expectation_suite_name=\"milestone3_expectation_suite\"\n",
    ")\n"
   ]
  },
  {
   "cell_type": "code",
   "execution_count": 3,
   "id": "e058b402",
   "metadata": {},
   "outputs": [
    {
     "data": {
      "application/vnd.jupyter.widget-view+json": {
       "model_id": "e789f7ad21da4c6ab6595e385a49fa02",
       "version_major": 2,
       "version_minor": 0
      },
      "text/plain": [
       "Calculating Metrics:   0%|          | 0/8 [00:00<?, ?it/s]"
      ]
     },
     "metadata": {},
     "output_type": "display_data"
    },
    {
     "data": {
      "text/plain": [
       "{\n",
       "  \"success\": true,\n",
       "  \"result\": {\n",
       "    \"element_count\": 1470,\n",
       "    \"unexpected_count\": 0,\n",
       "    \"unexpected_percent\": 0.0,\n",
       "    \"partial_unexpected_list\": [],\n",
       "    \"missing_count\": 0,\n",
       "    \"missing_percent\": 0.0,\n",
       "    \"unexpected_percent_total\": 0.0,\n",
       "    \"unexpected_percent_nonmissing\": 0.0\n",
       "  },\n",
       "  \"meta\": {},\n",
       "  \"exception_info\": {\n",
       "    \"raised_exception\": false,\n",
       "    \"exception_traceback\": null,\n",
       "    \"exception_message\": null\n",
       "  }\n",
       "}"
      ]
     },
     "execution_count": 3,
     "metadata": {},
     "output_type": "execute_result"
    }
   ],
   "source": [
    "# Expectation 1: Memastikan semua nilai di kolom 'employeenumber' unik.\n",
    "validator.expect_column_values_to_be_unique('employeenumber')"
   ]
  },
  {
   "cell_type": "markdown",
   "id": "9f126f53",
   "metadata": {},
   "source": [
    "Great expectaion berjalan dengan baik tanpa kesalahan. Kolom employeenumber berfungsi sebagai ID unik atau kunci primer (primary key) untuk setiap karyawan. Menjaga keunikan kolom ini sangat krusial untuk integritas data. Jika ada duplikasi pada kolom ini, artinya ada satu atau lebih karyawan yang datanya tercatat ganda. Hal ini akan merusak semua analisis yang bergantung pada hitungan individu, seperti jumlah total karyawan, perhitungan rata-rata gaji, atau analisis demografi. Validasi ini memastikan setiap baris data merepresentasikan satu individu yang berbeda."
   ]
  },
  {
   "cell_type": "code",
   "execution_count": 4,
   "id": "7b8cdb20",
   "metadata": {},
   "outputs": [
    {
     "data": {
      "application/vnd.jupyter.widget-view+json": {
       "model_id": "829f7ca79abf4528ac9bb6f534e975cb",
       "version_major": 2,
       "version_minor": 0
      },
      "text/plain": [
       "Calculating Metrics:   0%|          | 0/8 [00:00<?, ?it/s]"
      ]
     },
     "metadata": {},
     "output_type": "display_data"
    },
    {
     "data": {
      "text/plain": [
       "{\n",
       "  \"success\": true,\n",
       "  \"result\": {\n",
       "    \"element_count\": 1470,\n",
       "    \"unexpected_count\": 0,\n",
       "    \"unexpected_percent\": 0.0,\n",
       "    \"partial_unexpected_list\": [],\n",
       "    \"missing_count\": 0,\n",
       "    \"missing_percent\": 0.0,\n",
       "    \"unexpected_percent_total\": 0.0,\n",
       "    \"unexpected_percent_nonmissing\": 0.0\n",
       "  },\n",
       "  \"meta\": {},\n",
       "  \"exception_info\": {\n",
       "    \"raised_exception\": false,\n",
       "    \"exception_traceback\": null,\n",
       "    \"exception_message\": null\n",
       "  }\n",
       "}"
      ]
     },
     "execution_count": 4,
     "metadata": {},
     "output_type": "execute_result"
    }
   ],
   "source": [
    "# Expectation 2: Memastikan nilai di kolom 'age' berada di antara 18 dan 65, rentang ini yang umum bekerja di usia kerja.\n",
    "validator.expect_column_values_to_be_between('age', min_value=18, max_value=65)"
   ]
  },
  {
   "cell_type": "markdown",
   "id": "14ca8bde",
   "metadata": {},
   "source": [
    " Great expectaion berjalan dengan baik tanpa kesalahan. Ini adalah contoh penerapan aturan bisnis (business rule) pada data. Secara umum, usia legal untuk bekerja adalah 18 tahun dan usia pensiun sekitar 65 tahun. Expectation ini mencegah masuknya data yang tidak masuk akal (anomali)akibat kesalahan input, misalnya usia 5 tahun atau 200 tahun. Dengan memastikan semua data usia berada dalam rentang yang logis, kita menjaga agar analisis statistik terkait usia (seperti rata-rata atau median) tidak menjadi bias atau salah."
   ]
  },
  {
   "cell_type": "code",
   "execution_count": 5,
   "id": "8ef50f3e",
   "metadata": {},
   "outputs": [
    {
     "data": {
      "application/vnd.jupyter.widget-view+json": {
       "model_id": "ed6daa46301d459bbb45882b4b4560ee",
       "version_major": 2,
       "version_minor": 0
      },
      "text/plain": [
       "Calculating Metrics:   0%|          | 0/8 [00:00<?, ?it/s]"
      ]
     },
     "metadata": {},
     "output_type": "display_data"
    },
    {
     "data": {
      "text/plain": [
       "{\n",
       "  \"success\": true,\n",
       "  \"result\": {\n",
       "    \"element_count\": 1470,\n",
       "    \"unexpected_count\": 0,\n",
       "    \"unexpected_percent\": 0.0,\n",
       "    \"partial_unexpected_list\": [],\n",
       "    \"missing_count\": 0,\n",
       "    \"missing_percent\": 0.0,\n",
       "    \"unexpected_percent_total\": 0.0,\n",
       "    \"unexpected_percent_nonmissing\": 0.0\n",
       "  },\n",
       "  \"meta\": {},\n",
       "  \"exception_info\": {\n",
       "    \"raised_exception\": false,\n",
       "    \"exception_traceback\": null,\n",
       "    \"exception_message\": null\n",
       "  }\n",
       "}"
      ]
     },
     "execution_count": 5,
     "metadata": {},
     "output_type": "execute_result"
    }
   ],
   "source": [
    "# Expectation 3: Memastikan nilai di kolom 'gender' hanya terdiri dari 'Female' atau 'Male'.\n",
    "validator.expect_column_values_to_be_in_set('gender', ['Female', 'Male'])\n"
   ]
  },
  {
   "cell_type": "markdown",
   "id": "f400fbb0",
   "metadata": {},
   "source": [
    "  Great expectaion berjalan dengan baik tanpa kesalahan. Untuk kolom dengan nilai pilihan yang terbatas seperti gender ini sangat mungkin terjadi kesalahan penulisan. Variasi seperti ini akan membuat data terpecah saat diagregasi. Dengan membatasi nilainya hanya pada 'Female' dan 'Male', kita memastikan bahwa proses grouping dan filtering pada analisis akan berjalan akurat dan konsisten."
   ]
  },
  {
   "cell_type": "code",
   "execution_count": 6,
   "id": "edafd23b",
   "metadata": {},
   "outputs": [
    {
     "data": {
      "application/vnd.jupyter.widget-view+json": {
       "model_id": "7d3a288d7b4c4881a6e6bd2a47b46934",
       "version_major": 2,
       "version_minor": 0
      },
      "text/plain": [
       "Calculating Metrics:   0%|          | 0/1 [00:00<?, ?it/s]"
      ]
     },
     "metadata": {},
     "output_type": "display_data"
    },
    {
     "data": {
      "text/plain": [
       "{\n",
       "  \"success\": true,\n",
       "  \"result\": {\n",
       "    \"observed_value\": \"int64\"\n",
       "  },\n",
       "  \"meta\": {},\n",
       "  \"exception_info\": {\n",
       "    \"raised_exception\": false,\n",
       "    \"exception_traceback\": null,\n",
       "    \"exception_message\": null\n",
       "  }\n",
       "}"
      ]
     },
     "execution_count": 6,
     "metadata": {},
     "output_type": "execute_result"
    }
   ],
   "source": [
    "# Expectation 4: Memastikan kolom 'monthlyincome' adalah tipe data numerik (integer atau float).\n",
    "validator.expect_column_values_to_be_in_type_list('monthlyincome', ['int64', 'float64'])\n"
   ]
  },
  {
   "cell_type": "markdown",
   "id": "4a0e899c",
   "metadata": {},
   "source": [
    "Great expectaion berjalan dengan baik tanpa kesalahan. Ini adalah validasi tipe data. Kolom pendapatan (monthlyincome) akan sering digunakan dalam perhitungan matematis (seperti mencari rata-rata, median, atau korelasi). Dengan memastikan tipe datanya numerik akan mencegah error saat melakukan analisis. Jika ada kesalahan pada data yang masuk seperti 'N/A', '-' atau 'Rp 5.000.000', maka akan menyebabkan error kalkulasi pada saat analisis dan visualisasi. "
   ]
  },
  {
   "cell_type": "code",
   "execution_count": 12,
   "id": "a48676f2",
   "metadata": {},
   "outputs": [
    {
     "data": {
      "application/vnd.jupyter.widget-view+json": {
       "model_id": "056f4a69cc514ba1be806a38e817c6a4",
       "version_major": 2,
       "version_minor": 0
      },
      "text/plain": [
       "Calculating Metrics:   0%|          | 0/9 [00:00<?, ?it/s]"
      ]
     },
     "metadata": {},
     "output_type": "display_data"
    },
    {
     "data": {
      "text/plain": [
       "{\n",
       "  \"success\": true,\n",
       "  \"result\": {\n",
       "    \"element_count\": 1470,\n",
       "    \"unexpected_count\": 0,\n",
       "    \"unexpected_percent\": 0.0,\n",
       "    \"partial_unexpected_list\": [],\n",
       "    \"missing_count\": 0,\n",
       "    \"missing_percent\": 0.0,\n",
       "    \"unexpected_percent_total\": 0.0,\n",
       "    \"unexpected_percent_nonmissing\": 0.0\n",
       "  },\n",
       "  \"meta\": {},\n",
       "  \"exception_info\": {\n",
       "    \"raised_exception\": false,\n",
       "    \"exception_traceback\": null,\n",
       "    \"exception_message\": null\n",
       "  }\n",
       "}"
      ]
     },
     "execution_count": 12,
     "metadata": {},
     "output_type": "execute_result"
    }
   ],
   "source": [
    "# Expectation 5: Memastikan karakter pada kolom 'jobrole' berada di antara 5 dan 50 karakter.\n",
    "validator.expect_column_value_lengths_to_be_between('jobrole', min_value=5, max_value=50)"
   ]
  },
  {
   "cell_type": "markdown",
   "id": "7cec2032",
   "metadata": {},
   "source": [
    "Great expectaion berjalan dengan baik tanpa kesalahan. Ini adalah validasi kewajaran data (data sanity check). Ekspektasi ini berasumsi bahwa sebuah nama peran pekerjaan yang sah memiliki panjang karakter yang masuk akal. Ini sangat efektif untuk menangkap kesalahan input yang aneh, seperti string kosong, satu karakter karena salah tekan tombol, atau teks yang sangat panjang akibat data yang rusak (corrupted)."
   ]
  },
  {
   "cell_type": "code",
   "execution_count": 8,
   "id": "3968911c",
   "metadata": {},
   "outputs": [
    {
     "data": {
      "application/vnd.jupyter.widget-view+json": {
       "model_id": "5f90fb2299c640ec829d18da59102d3e",
       "version_major": 2,
       "version_minor": 0
      },
      "text/plain": [
       "Calculating Metrics:   0%|          | 0/4 [00:00<?, ?it/s]"
      ]
     },
     "metadata": {},
     "output_type": "display_data"
    },
    {
     "data": {
      "text/plain": [
       "{\n",
       "  \"success\": true,\n",
       "  \"result\": {\n",
       "    \"observed_value\": 15.209523809523809\n",
       "  },\n",
       "  \"meta\": {},\n",
       "  \"exception_info\": {\n",
       "    \"raised_exception\": false,\n",
       "    \"exception_traceback\": null,\n",
       "    \"exception_message\": null\n",
       "  }\n",
       "}"
      ]
     },
     "execution_count": 8,
     "metadata": {},
     "output_type": "execute_result"
    }
   ],
   "source": [
    "# Expectation 6: Memvalidasi rata-rata dari 'percentsalaryhike' berada di rentang yang wajar (10-25).\n",
    "validator.expect_column_mean_to_be_between('percentsalaryhike', 10, 25)\n"
   ]
  },
  {
   "cell_type": "markdown",
   "id": "e8926334",
   "metadata": {},
   "source": [
    "Great expectaion berjalan dengan baik tanpa kesalahan. Ini adalah contoh validasi statistik agregat. Berbeda dari yang lain yang memeriksa baris per baris, expectation ini memeriksa \"kesehatan\" dataset secara keseluruhan. Jika rata-rata kenaikan gaji tiba-tiba berada di luar rentang yang diharapkan (misalnya menjadi 5% atau 50%), ini bisa menjadi detektor anomali tingkat tinggi. Ini menandakan kemungkinan adanya kesalahan besar saat memasukkan data atau adanya perubahan kebijakan yang sangat signifikan yang perlu diselidiki."
   ]
  },
  {
   "cell_type": "code",
   "execution_count": 10,
   "id": "60b28545",
   "metadata": {},
   "outputs": [
    {
     "data": {
      "application/vnd.jupyter.widget-view+json": {
       "model_id": "a484c394b256494c8cd20e1b9d43c842",
       "version_major": 2,
       "version_minor": 0
      },
      "text/plain": [
       "Calculating Metrics:   0%|          | 0/8 [00:00<?, ?it/s]"
      ]
     },
     "metadata": {},
     "output_type": "display_data"
    },
    {
     "data": {
      "text/plain": [
       "{\n",
       "  \"success\": true,\n",
       "  \"result\": {\n",
       "    \"element_count\": 1470,\n",
       "    \"unexpected_count\": 0,\n",
       "    \"unexpected_percent\": 0.0,\n",
       "    \"partial_unexpected_list\": [],\n",
       "    \"missing_count\": 0,\n",
       "    \"missing_percent\": 0.0,\n",
       "    \"unexpected_percent_total\": 0.0,\n",
       "    \"unexpected_percent_nonmissing\": 0.0\n",
       "  },\n",
       "  \"meta\": {},\n",
       "  \"exception_info\": {\n",
       "    \"raised_exception\": false,\n",
       "    \"exception_traceback\": null,\n",
       "    \"exception_message\": null\n",
       "  }\n",
       "}"
      ]
     },
     "execution_count": 10,
     "metadata": {},
     "output_type": "execute_result"
    }
   ],
   "source": [
    "# Expectation 7: Memastikan kolom 'over18' hanya berisi karakter 'Y' menggunakan ekspresi reguler (regex).\n",
    "# Ini memvalidasi konsistensi data kategorikal biner.\n",
    "validator.expect_column_values_to_match_regex('over18', r'^Y$')"
   ]
  },
  {
   "cell_type": "markdown",
   "id": "25066510",
   "metadata": {},
   "source": [
    "Great expectaion berjalan dengan baik tanpa kesalahan.  Ini adalah validasi format yang sangat presisi menggunakan Regular Expression (regex). Untuk kolom flag biner seperti over18, kita mengharapkan format yang absolut: hanya satu karakter dan karakter itu harus 'Y'. Validasi ini lebih ketat daripada to_be_in_set karena ia juga mencegah adanya kesalahan yang tidak terlihat seperti spasi di awal atau akhir (' Y '). Ini menjamin konsistensi data pada level tertinggi."
   ]
  },
  {
   "cell_type": "code",
   "execution_count": 11,
   "id": "ebf04875",
   "metadata": {},
   "outputs": [],
   "source": [
    "# Menyimpan Hasil Validasi\n",
    "# Menyimpan semua expectation yang telah didefinisikan ke dalam sebuah 'Expectation Suite'.Suite ini dapat digunakan kembali di masa depan untuk memvalidasi data baru dengan aturan yang sama.\n",
    "validator.save_expectation_suite(discard_failed_expectations=False)"
   ]
  }
 ],
 "metadata": {
  "kernelspec": {
   "display_name": "h8_env",
   "language": "python",
   "name": "python3"
  },
  "language_info": {
   "codemirror_mode": {
    "name": "ipython",
    "version": 3
   },
   "file_extension": ".py",
   "mimetype": "text/x-python",
   "name": "python",
   "nbconvert_exporter": "python",
   "pygments_lexer": "ipython3",
   "version": "3.9.23"
  }
 },
 "nbformat": 4,
 "nbformat_minor": 5
}
