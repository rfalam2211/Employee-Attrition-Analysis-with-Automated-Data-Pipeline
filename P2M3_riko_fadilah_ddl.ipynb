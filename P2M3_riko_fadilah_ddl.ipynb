{
 "cells": [
  {
   "cell_type": "markdown",
   "id": "35724de8",
   "metadata": {},
   "source": [
    "ssan kode di file ss"
   ]
  }
 ],
 "metadata": {
  "language_info": {
   "name": "python"
  }
 },
 "nbformat": 4,
 "nbformat_minor": 5
}
